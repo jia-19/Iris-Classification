{
 "cells": [
  {
   "cell_type": "code",
   "execution_count": 1,
   "id": "e2c17816",
   "metadata": {},
   "outputs": [],
   "source": [
    "import tensorflow as tf\n",
    "import pandas as pd"
   ]
  },
  {
   "cell_type": "code",
   "execution_count": 2,
   "id": "2361c79f",
   "metadata": {},
   "outputs": [],
   "source": [
    "CSV_COLUMN_NAMES = ['SepalLength', 'SepalWidth', 'PetalLength', 'PetalWidth', 'Species']\n",
    "SPECIES = ['Setosa', 'Versicolor', 'Virginica']\n"
   ]
  },
  {
   "cell_type": "code",
   "execution_count": 3,
   "id": "edd0a8b8",
   "metadata": {},
   "outputs": [],
   "source": [
    "train_path = tf.keras.utils.get_file(\n",
    "    \"iris_training.csv\", \"https://storage.googleapis.com/download.tensorflow.org/data/iris_training.csv\"\n",
    ")\n",
    "\n",
    "test_path = tf.keras.utils.get_file(\n",
    "    \"iris_test.csv\", \"https://storage.googleapis.com/download.tensorflow.org/data/iris_test.csv\"\n",
    ")"
   ]
  },
  {
   "cell_type": "code",
   "execution_count": 4,
   "id": "9bba97b6",
   "metadata": {},
   "outputs": [],
   "source": [
    "train = pd.read_csv(train_path, names = CSV_COLUMN_NAMES, header=0)\n",
    "test = pd.read_csv(test_path, names=CSV_COLUMN_NAMES, header=0)"
   ]
  },
  {
   "cell_type": "code",
   "execution_count": 5,
   "id": "8f09974c",
   "metadata": {},
   "outputs": [
    {
     "data": {
      "text/html": [
       "<div>\n",
       "<style scoped>\n",
       "    .dataframe tbody tr th:only-of-type {\n",
       "        vertical-align: middle;\n",
       "    }\n",
       "\n",
       "    .dataframe tbody tr th {\n",
       "        vertical-align: top;\n",
       "    }\n",
       "\n",
       "    .dataframe thead th {\n",
       "        text-align: right;\n",
       "    }\n",
       "</style>\n",
       "<table border=\"1\" class=\"dataframe\">\n",
       "  <thead>\n",
       "    <tr style=\"text-align: right;\">\n",
       "      <th></th>\n",
       "      <th>SepalLength</th>\n",
       "      <th>SepalWidth</th>\n",
       "      <th>PetalLength</th>\n",
       "      <th>PetalWidth</th>\n",
       "      <th>Species</th>\n",
       "    </tr>\n",
       "  </thead>\n",
       "  <tbody>\n",
       "    <tr>\n",
       "      <th>0</th>\n",
       "      <td>6.4</td>\n",
       "      <td>2.8</td>\n",
       "      <td>5.6</td>\n",
       "      <td>2.2</td>\n",
       "      <td>2</td>\n",
       "    </tr>\n",
       "    <tr>\n",
       "      <th>1</th>\n",
       "      <td>5.0</td>\n",
       "      <td>2.3</td>\n",
       "      <td>3.3</td>\n",
       "      <td>1.0</td>\n",
       "      <td>1</td>\n",
       "    </tr>\n",
       "    <tr>\n",
       "      <th>2</th>\n",
       "      <td>4.9</td>\n",
       "      <td>2.5</td>\n",
       "      <td>4.5</td>\n",
       "      <td>1.7</td>\n",
       "      <td>2</td>\n",
       "    </tr>\n",
       "    <tr>\n",
       "      <th>3</th>\n",
       "      <td>4.9</td>\n",
       "      <td>3.1</td>\n",
       "      <td>1.5</td>\n",
       "      <td>0.1</td>\n",
       "      <td>0</td>\n",
       "    </tr>\n",
       "    <tr>\n",
       "      <th>4</th>\n",
       "      <td>5.7</td>\n",
       "      <td>3.8</td>\n",
       "      <td>1.7</td>\n",
       "      <td>0.3</td>\n",
       "      <td>0</td>\n",
       "    </tr>\n",
       "  </tbody>\n",
       "</table>\n",
       "</div>"
      ],
      "text/plain": [
       "   SepalLength  SepalWidth  PetalLength  PetalWidth  Species\n",
       "0          6.4         2.8          5.6         2.2        2\n",
       "1          5.0         2.3          3.3         1.0        1\n",
       "2          4.9         2.5          4.5         1.7        2\n",
       "3          4.9         3.1          1.5         0.1        0\n",
       "4          5.7         3.8          1.7         0.3        0"
      ]
     },
     "execution_count": 5,
     "metadata": {},
     "output_type": "execute_result"
    }
   ],
   "source": [
    "train.head()"
   ]
  },
  {
   "cell_type": "code",
   "execution_count": 6,
   "id": "81934c37",
   "metadata": {},
   "outputs": [],
   "source": [
    "train_y = train.pop('Species')\n",
    "test_y = test.pop('Species')"
   ]
  },
  {
   "cell_type": "code",
   "execution_count": 7,
   "id": "e0085b4e",
   "metadata": {},
   "outputs": [
    {
     "data": {
      "text/html": [
       "<div>\n",
       "<style scoped>\n",
       "    .dataframe tbody tr th:only-of-type {\n",
       "        vertical-align: middle;\n",
       "    }\n",
       "\n",
       "    .dataframe tbody tr th {\n",
       "        vertical-align: top;\n",
       "    }\n",
       "\n",
       "    .dataframe thead th {\n",
       "        text-align: right;\n",
       "    }\n",
       "</style>\n",
       "<table border=\"1\" class=\"dataframe\">\n",
       "  <thead>\n",
       "    <tr style=\"text-align: right;\">\n",
       "      <th></th>\n",
       "      <th>SepalLength</th>\n",
       "      <th>SepalWidth</th>\n",
       "      <th>PetalLength</th>\n",
       "      <th>PetalWidth</th>\n",
       "    </tr>\n",
       "  </thead>\n",
       "  <tbody>\n",
       "    <tr>\n",
       "      <th>0</th>\n",
       "      <td>6.4</td>\n",
       "      <td>2.8</td>\n",
       "      <td>5.6</td>\n",
       "      <td>2.2</td>\n",
       "    </tr>\n",
       "    <tr>\n",
       "      <th>1</th>\n",
       "      <td>5.0</td>\n",
       "      <td>2.3</td>\n",
       "      <td>3.3</td>\n",
       "      <td>1.0</td>\n",
       "    </tr>\n",
       "    <tr>\n",
       "      <th>2</th>\n",
       "      <td>4.9</td>\n",
       "      <td>2.5</td>\n",
       "      <td>4.5</td>\n",
       "      <td>1.7</td>\n",
       "    </tr>\n",
       "    <tr>\n",
       "      <th>3</th>\n",
       "      <td>4.9</td>\n",
       "      <td>3.1</td>\n",
       "      <td>1.5</td>\n",
       "      <td>0.1</td>\n",
       "    </tr>\n",
       "    <tr>\n",
       "      <th>4</th>\n",
       "      <td>5.7</td>\n",
       "      <td>3.8</td>\n",
       "      <td>1.7</td>\n",
       "      <td>0.3</td>\n",
       "    </tr>\n",
       "  </tbody>\n",
       "</table>\n",
       "</div>"
      ],
      "text/plain": [
       "   SepalLength  SepalWidth  PetalLength  PetalWidth\n",
       "0          6.4         2.8          5.6         2.2\n",
       "1          5.0         2.3          3.3         1.0\n",
       "2          4.9         2.5          4.5         1.7\n",
       "3          4.9         3.1          1.5         0.1\n",
       "4          5.7         3.8          1.7         0.3"
      ]
     },
     "execution_count": 7,
     "metadata": {},
     "output_type": "execute_result"
    }
   ],
   "source": [
    "train.shape\n",
    "train.head()"
   ]
  },
  {
   "cell_type": "code",
   "execution_count": 8,
   "id": "e2eb59b4",
   "metadata": {},
   "outputs": [],
   "source": [
    "def input_fn(features, labels, training=True, batch_size=256):\n",
    "    #Convert the inputs into a data set\n",
    "    dataset = tf.data.Dataset.from_tensor_slices((dict(features), labels))\n",
    "\n",
    "    #Shuffle and repeat in training mode\n",
    "    if training:\n",
    "        dataset = dataset.shuffle(1000).repeat()\n",
    "\n",
    "    return dataset.batch(batch_size)"
   ]
  },
  {
   "cell_type": "code",
   "execution_count": 9,
   "id": "ac6c8ebf",
   "metadata": {},
   "outputs": [
    {
     "name": "stdout",
     "output_type": "stream",
     "text": [
      "[NumericColumn(key='SepalLength', shape=(1,), default_value=None, dtype=tf.float32, normalizer_fn=None), NumericColumn(key='SepalWidth', shape=(1,), default_value=None, dtype=tf.float32, normalizer_fn=None), NumericColumn(key='PetalLength', shape=(1,), default_value=None, dtype=tf.float32, normalizer_fn=None), NumericColumn(key='PetalWidth', shape=(1,), default_value=None, dtype=tf.float32, normalizer_fn=None)]\n"
     ]
    }
   ],
   "source": [
    "my_feature_columns = []\n",
    "for key in train.keys():\n",
    "    my_feature_columns.append(tf.feature_column.numeric_column(key=key))\n",
    "print(my_feature_columns)"
   ]
  },
  {
   "cell_type": "code",
   "execution_count": 10,
   "id": "a247a7c7",
   "metadata": {},
   "outputs": [
    {
     "name": "stdout",
     "output_type": "stream",
     "text": [
      "INFO:tensorflow:Using default config.\n",
      "WARNING:tensorflow:Using temporary folder as model directory: C:\\Users\\jossu\\AppData\\Local\\Temp\\tmp_8hwxmyd\n",
      "INFO:tensorflow:Using config: {'_model_dir': 'C:\\\\Users\\\\jossu\\\\AppData\\\\Local\\\\Temp\\\\tmp_8hwxmyd', '_tf_random_seed': None, '_save_summary_steps': 100, '_save_checkpoints_steps': None, '_save_checkpoints_secs': 600, '_session_config': allow_soft_placement: true\n",
      "graph_options {\n",
      "  rewrite_options {\n",
      "    meta_optimizer_iterations: ONE\n",
      "  }\n",
      "}\n",
      ", '_keep_checkpoint_max': 5, '_keep_checkpoint_every_n_hours': 10000, '_log_step_count_steps': 100, '_train_distribute': None, '_device_fn': None, '_protocol': None, '_eval_distribute': None, '_experimental_distribute': None, '_experimental_max_worker_delay_secs': None, '_session_creation_timeout_secs': 7200, '_checkpoint_save_graph_def': True, '_service': None, '_cluster_spec': ClusterSpec({}), '_task_type': 'worker', '_task_id': 0, '_global_id_in_cluster': 0, '_master': '', '_evaluation_master': '', '_is_chief': True, '_num_ps_replicas': 0, '_num_worker_replicas': 1}\n"
     ]
    }
   ],
   "source": [
    "#Building a DNN with 2 hidden layers \n",
    "#with 30 and 10 hidden nodes each\n",
    "\n",
    "classifier = tf.estimator.DNNClassifier(\n",
    "    feature_columns= my_feature_columns, \n",
    "    hidden_units=[30, 10],\n",
    "    n_classes=3\n",
    ")"
   ]
  },
  {
   "cell_type": "code",
   "execution_count": 11,
   "id": "4f1cf742",
   "metadata": {},
   "outputs": [
    {
     "name": "stdout",
     "output_type": "stream",
     "text": [
      "WARNING:tensorflow:From c:\\Users\\jossu\\anaconda3\\lib\\site-packages\\tensorflow\\python\\training\\training_util.py:400: Variable.initialized_value (from tensorflow.python.ops.variables) is deprecated and will be removed in a future version.\n",
      "Instructions for updating:\n",
      "Use Variable.read_value. Variables in 2.X are initialized automatically both in eager and graph (inside tf.defun) contexts.\n",
      "INFO:tensorflow:Calling model_fn.\n",
      "WARNING:tensorflow:From c:\\Users\\jossu\\anaconda3\\lib\\site-packages\\keras\\optimizer_v2\\adagrad.py:83: calling Constant.__init__ (from tensorflow.python.ops.init_ops) with dtype is deprecated and will be removed in a future version.\n",
      "Instructions for updating:\n",
      "Call initializer instance with the dtype argument instead of passing it to the constructor\n",
      "INFO:tensorflow:Done calling model_fn.\n",
      "INFO:tensorflow:Create CheckpointSaverHook.\n",
      "INFO:tensorflow:Graph was finalized.\n",
      "INFO:tensorflow:Running local_init_op.\n",
      "INFO:tensorflow:Done running local_init_op.\n",
      "INFO:tensorflow:Calling checkpoint listeners before saving checkpoint 0...\n",
      "INFO:tensorflow:Saving checkpoints for 0 into C:\\Users\\jossu\\AppData\\Local\\Temp\\tmp_8hwxmyd\\model.ckpt.\n",
      "INFO:tensorflow:Calling checkpoint listeners after saving checkpoint 0...\n",
      "INFO:tensorflow:loss = 4.709891, step = 0\n",
      "INFO:tensorflow:global_step/sec: 218.8\n",
      "INFO:tensorflow:loss = 2.4326801, step = 100 (0.459 sec)\n",
      "INFO:tensorflow:global_step/sec: 259.417\n",
      "INFO:tensorflow:loss = 1.6622052, step = 200 (0.385 sec)\n",
      "INFO:tensorflow:global_step/sec: 256.617\n",
      "INFO:tensorflow:loss = 1.3183782, step = 300 (0.389 sec)\n",
      "INFO:tensorflow:global_step/sec: 311.572\n",
      "INFO:tensorflow:loss = 1.1149265, step = 400 (0.322 sec)\n",
      "INFO:tensorflow:global_step/sec: 272.263\n",
      "INFO:tensorflow:loss = 1.0005912, step = 500 (0.366 sec)\n",
      "INFO:tensorflow:global_step/sec: 302.879\n",
      "INFO:tensorflow:loss = 0.9352709, step = 600 (0.331 sec)\n",
      "INFO:tensorflow:global_step/sec: 315.944\n",
      "INFO:tensorflow:loss = 0.8882663, step = 700 (0.316 sec)\n",
      "INFO:tensorflow:global_step/sec: 260.879\n",
      "INFO:tensorflow:loss = 0.8457049, step = 800 (0.385 sec)\n",
      "INFO:tensorflow:global_step/sec: 305.138\n",
      "INFO:tensorflow:loss = 0.8188367, step = 900 (0.327 sec)\n",
      "INFO:tensorflow:global_step/sec: 290.231\n",
      "INFO:tensorflow:loss = 0.7907354, step = 1000 (0.344 sec)\n",
      "INFO:tensorflow:global_step/sec: 235.119\n",
      "INFO:tensorflow:loss = 0.7741522, step = 1100 (0.425 sec)\n",
      "INFO:tensorflow:global_step/sec: 310.101\n",
      "INFO:tensorflow:loss = 0.7476231, step = 1200 (0.322 sec)\n",
      "INFO:tensorflow:global_step/sec: 313.802\n",
      "INFO:tensorflow:loss = 0.7439554, step = 1300 (0.320 sec)\n",
      "INFO:tensorflow:global_step/sec: 261.596\n",
      "INFO:tensorflow:loss = 0.70177037, step = 1400 (0.381 sec)\n",
      "INFO:tensorflow:global_step/sec: 318.569\n",
      "INFO:tensorflow:loss = 0.69851625, step = 1500 (0.314 sec)\n",
      "INFO:tensorflow:global_step/sec: 322.174\n",
      "INFO:tensorflow:loss = 0.676643, step = 1600 (0.310 sec)\n",
      "INFO:tensorflow:global_step/sec: 258.484\n",
      "INFO:tensorflow:loss = 0.6610341, step = 1700 (0.389 sec)\n",
      "INFO:tensorflow:global_step/sec: 293.296\n",
      "INFO:tensorflow:loss = 0.6577279, step = 1800 (0.340 sec)\n",
      "INFO:tensorflow:global_step/sec: 275.379\n",
      "INFO:tensorflow:loss = 0.63981557, step = 1900 (0.364 sec)\n",
      "INFO:tensorflow:global_step/sec: 257.535\n",
      "INFO:tensorflow:loss = 0.6334094, step = 2000 (0.386 sec)\n",
      "INFO:tensorflow:global_step/sec: 323.927\n",
      "INFO:tensorflow:loss = 0.62406874, step = 2100 (0.309 sec)\n",
      "INFO:tensorflow:global_step/sec: 333.549\n",
      "INFO:tensorflow:loss = 0.6149413, step = 2200 (0.301 sec)\n",
      "INFO:tensorflow:global_step/sec: 277.809\n",
      "INFO:tensorflow:loss = 0.59907395, step = 2300 (0.360 sec)\n",
      "INFO:tensorflow:global_step/sec: 390.567\n",
      "INFO:tensorflow:loss = 0.59965205, step = 2400 (0.255 sec)\n",
      "INFO:tensorflow:global_step/sec: 451.552\n",
      "INFO:tensorflow:loss = 0.59028685, step = 2500 (0.221 sec)\n",
      "INFO:tensorflow:global_step/sec: 355.312\n",
      "INFO:tensorflow:loss = 0.5764084, step = 2600 (0.281 sec)\n",
      "INFO:tensorflow:global_step/sec: 329.628\n",
      "INFO:tensorflow:loss = 0.58384895, step = 2700 (0.304 sec)\n",
      "INFO:tensorflow:global_step/sec: 386.432\n",
      "INFO:tensorflow:loss = 0.5813508, step = 2800 (0.258 sec)\n",
      "INFO:tensorflow:global_step/sec: 366.03\n",
      "INFO:tensorflow:loss = 0.5675951, step = 2900 (0.273 sec)\n",
      "INFO:tensorflow:global_step/sec: 315.446\n",
      "INFO:tensorflow:loss = 0.5589267, step = 3000 (0.318 sec)\n",
      "INFO:tensorflow:global_step/sec: 325.442\n",
      "INFO:tensorflow:loss = 0.55095893, step = 3100 (0.306 sec)\n",
      "INFO:tensorflow:global_step/sec: 331.047\n",
      "INFO:tensorflow:loss = 0.5544069, step = 3200 (0.302 sec)\n",
      "INFO:tensorflow:global_step/sec: 275.499\n",
      "INFO:tensorflow:loss = 0.5456689, step = 3300 (0.364 sec)\n",
      "INFO:tensorflow:global_step/sec: 322.16\n",
      "INFO:tensorflow:loss = 0.54083323, step = 3400 (0.310 sec)\n",
      "INFO:tensorflow:global_step/sec: 388.917\n",
      "INFO:tensorflow:loss = 0.5340675, step = 3500 (0.256 sec)\n",
      "INFO:tensorflow:global_step/sec: 343.939\n",
      "INFO:tensorflow:loss = 0.5402967, step = 3600 (0.291 sec)\n",
      "INFO:tensorflow:global_step/sec: 306.582\n",
      "INFO:tensorflow:loss = 0.5225593, step = 3700 (0.327 sec)\n",
      "INFO:tensorflow:global_step/sec: 358.989\n",
      "INFO:tensorflow:loss = 0.51745784, step = 3800 (0.276 sec)\n",
      "INFO:tensorflow:global_step/sec: 330.051\n",
      "INFO:tensorflow:loss = 0.52035505, step = 3900 (0.304 sec)\n",
      "INFO:tensorflow:global_step/sec: 248.366\n",
      "INFO:tensorflow:loss = 0.53162587, step = 4000 (0.403 sec)\n",
      "INFO:tensorflow:global_step/sec: 351.74\n",
      "INFO:tensorflow:loss = 0.51337314, step = 4100 (0.284 sec)\n",
      "INFO:tensorflow:global_step/sec: 356.282\n",
      "INFO:tensorflow:loss = 0.51294464, step = 4200 (0.281 sec)\n",
      "INFO:tensorflow:global_step/sec: 302.88\n",
      "INFO:tensorflow:loss = 0.5035057, step = 4300 (0.331 sec)\n",
      "INFO:tensorflow:global_step/sec: 331.354\n",
      "INFO:tensorflow:loss = 0.488414, step = 4400 (0.301 sec)\n",
      "INFO:tensorflow:global_step/sec: 374.147\n",
      "INFO:tensorflow:loss = 0.48735017, step = 4500 (0.267 sec)\n",
      "INFO:tensorflow:global_step/sec: 337.431\n",
      "INFO:tensorflow:loss = 0.5058764, step = 4600 (0.296 sec)\n",
      "INFO:tensorflow:global_step/sec: 322.421\n",
      "INFO:tensorflow:loss = 0.4940189, step = 4700 (0.312 sec)\n",
      "INFO:tensorflow:global_step/sec: 377.095\n",
      "INFO:tensorflow:loss = 0.4923692, step = 4800 (0.262 sec)\n",
      "INFO:tensorflow:global_step/sec: 325.254\n",
      "INFO:tensorflow:loss = 0.49319762, step = 4900 (0.309 sec)\n",
      "INFO:tensorflow:Calling checkpoint listeners before saving checkpoint 5000...\n",
      "INFO:tensorflow:Saving checkpoints for 5000 into C:\\Users\\jossu\\AppData\\Local\\Temp\\tmp_8hwxmyd\\model.ckpt.\n",
      "INFO:tensorflow:Calling checkpoint listeners after saving checkpoint 5000...\n",
      "INFO:tensorflow:Loss for final step: 0.4683978.\n"
     ]
    },
    {
     "data": {
      "text/plain": [
       "<tensorflow_estimator.python.estimator.canned.dnn.DNNClassifierV2 at 0x15ca55055b0>"
      ]
     },
     "execution_count": 11,
     "metadata": {},
     "output_type": "execute_result"
    }
   ],
   "source": [
    "classifier.train(\n",
    "    input_fn = lambda: input_fn(train, train_y, training = True),\n",
    "    #Steps means model will stop after 5000\n",
    "    #entries are looked at\n",
    "    steps = 5000\n",
    ")"
   ]
  },
  {
   "cell_type": "code",
   "execution_count": 12,
   "id": "04e9cbdb",
   "metadata": {},
   "outputs": [
    {
     "name": "stdout",
     "output_type": "stream",
     "text": [
      "INFO:tensorflow:Calling model_fn.\n",
      "INFO:tensorflow:Done calling model_fn.\n",
      "INFO:tensorflow:Starting evaluation at 2023-02-09T16:37:46\n",
      "INFO:tensorflow:Graph was finalized.\n",
      "INFO:tensorflow:Restoring parameters from C:\\Users\\jossu\\AppData\\Local\\Temp\\tmp_8hwxmyd\\model.ckpt-5000\n",
      "INFO:tensorflow:Running local_init_op.\n",
      "INFO:tensorflow:Done running local_init_op.\n",
      "INFO:tensorflow:Inference Time : 2.63541s\n",
      "INFO:tensorflow:Finished evaluation at 2023-02-09-16:37:49\n",
      "INFO:tensorflow:Saving dict for global step 5000: accuracy = 0.56666666, average_loss = 0.5687581, global_step = 5000, loss = 0.5687581\n",
      "INFO:tensorflow:Saving 'checkpoint_path' summary for global step 5000: C:\\Users\\jossu\\AppData\\Local\\Temp\\tmp_8hwxmyd\\model.ckpt-5000\n",
      "\n",
      "Test set accuracy: 0.567\n",
      "\n"
     ]
    }
   ],
   "source": [
    "eval_result = classifier.evaluate(input_fn= lambda: input_fn(test, test_y, training = False))\n",
    "print('\\nTest set accuracy: {accuracy:0.3f}\\n'.format(**eval_result))"
   ]
  },
  {
   "cell_type": "code",
   "execution_count": 13,
   "id": "e2464a3f",
   "metadata": {},
   "outputs": [
    {
     "name": "stdout",
     "output_type": "stream",
     "text": [
      "Please type numeric values as prompted.\n",
      "INFO:tensorflow:Calling model_fn.\n",
      "INFO:tensorflow:Done calling model_fn.\n",
      "INFO:tensorflow:Graph was finalized.\n",
      "INFO:tensorflow:Restoring parameters from C:\\Users\\jossu\\AppData\\Local\\Temp\\tmp_8hwxmyd\\model.ckpt-5000\n",
      "INFO:tensorflow:Running local_init_op.\n",
      "INFO:tensorflow:Done running local_init_op.\n",
      "{'logits': array([-2.580149  ,  0.55374485,  1.220067  ], dtype=float32), 'probabilities': array([0.01456154, 0.33437982, 0.6510586 ], dtype=float32), 'class_ids': array([2], dtype=int64), 'classes': array([b'2'], dtype=object), 'all_class_ids': array([0, 1, 2]), 'all_classes': array([b'0', b'1', b'2'], dtype=object)}\n",
      "Prediction is \"Virginica\" (65.1%)\n"
     ]
    }
   ],
   "source": [
    "def input_fn(features, batch_size=256):\n",
    "    #Convert the input into a Dataset without labels\n",
    "    return tf.data.Dataset.from_tensor_slices(dict(features)).batch(batch_size)\n",
    "\n",
    "features = ['SepalLength', 'SepalWidth', 'PetalLength', 'PetalWidth']\n",
    "\n",
    "#Defining predict as a dictionary\n",
    "predict = {}\n",
    "\n",
    "print(\"Please type numeric values as prompted.\")\n",
    "for feature in features:\n",
    "    valid = True\n",
    "    while(valid):\n",
    "        val = input(feature + \": \")\n",
    "        if not val.isdigit(): valid = False\n",
    "\n",
    "    predict[feature] = [float(val)]\n",
    "\n",
    "predictions = classifier.predict(input_fn=lambda: input_fn(predict))\n",
    "for pred_dict in predictions:\n",
    "    print(pred_dict)\n",
    "    class_id = pred_dict['class_ids'][0]\n",
    "    probability = pred_dict['probabilities'][class_id]\n",
    "\n",
    "    print('Prediction is \"{}\" ({:.1f}%)'.format(\n",
    "        SPECIES[class_id], 100 * probability\n",
    "    ))\n",
    "    #print(predictions)"
   ]
  }
 ],
 "metadata": {
  "kernelspec": {
   "display_name": "base",
   "language": "python",
   "name": "python3"
  },
  "language_info": {
   "codemirror_mode": {
    "name": "ipython",
    "version": 3
   },
   "file_extension": ".py",
   "mimetype": "text/x-python",
   "name": "python",
   "nbconvert_exporter": "python",
   "pygments_lexer": "ipython3",
   "version": "3.8.8"
  },
  "vscode": {
   "interpreter": {
    "hash": "af8cb85e92266dcccaca26439c641245337d1539dbce9ee56647ea9fb5c7a05a"
   }
  }
 },
 "nbformat": 4,
 "nbformat_minor": 5
}
